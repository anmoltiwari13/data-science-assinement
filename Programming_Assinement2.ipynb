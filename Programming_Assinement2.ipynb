{
 "cells": [
  {
   "cell_type": "markdown",
   "metadata": {},
   "source": [
    "Write a Python program to convert kilometers to miles?"
   ]
  },
  {
   "cell_type": "code",
   "execution_count": null,
   "metadata": {},
   "outputs": [],
   "source": [
    "kilometers=float(input(\"enter the kilometers\"))\n",
    "conv_fact=0.621371\n",
    "miles=kilometers*conv_fact\n",
    "print(\"%0.2f kilometers is equal to %0.2f miles\"%(kilometers,miles))"
   ]
  },
  {
   "cell_type": "markdown",
   "metadata": {},
   "source": [
    "Write a Python program to convert Celsius to Fahrenheit?"
   ]
  },
  {
   "cell_type": "code",
   "execution_count": 1,
   "metadata": {},
   "outputs": [
    {
     "name": "stdout",
     "output_type": "stream",
     "text": [
      "35.00 celcius in fehrenheit will be 95.00 celcius\n"
     ]
    }
   ],
   "source": [
    "celcius=float(input(\"enter the temperature in celcius \"))\n",
    "fehrenheit=(celcius*9/5)+32\n",
    "print(\"%0.2f celcius in fehrenheit will be %0.2f celcius\"%(celcius,fehrenheit))"
   ]
  },
  {
   "cell_type": "markdown",
   "metadata": {},
   "source": [
    "Write a Python program to display calendar?"
   ]
  },
  {
   "cell_type": "code",
   "execution_count": null,
   "metadata": {},
   "outputs": [],
   "source": [
    "import calendar\n",
    "yy=int(input(\"enter the year :\"))\n",
    "mm=int(input(\"enter the month :\"))\n",
    "print(calendar.month(yy,mm))"
   ]
  },
  {
   "cell_type": "markdown",
   "metadata": {},
   "source": [
    "Write a Python program to solve quadratic equation?"
   ]
  },
  {
   "cell_type": "code",
   "execution_count": null,
   "metadata": {},
   "outputs": [],
   "source": [
    "\n",
    "import cmath\n",
    "a = 1\n",
    "b = 5\n",
    "c = 6\n",
    "d = (b**2) - (4*a*c)\n",
    "sol1 = (-b-cmath.sqrt(d))/(2*a)\n",
    "sol2 = (-b+cmath.sqrt(d))/(2*a)\n",
    "print('The solution are {0} and {1}'.format(sol1,sol2))"
   ]
  },
  {
   "cell_type": "markdown",
   "metadata": {},
   "source": [
    "Write a Python program to swap two variables without temp variable?"
   ]
  },
  {
   "cell_type": "code",
   "execution_count": 3,
   "metadata": {},
   "outputs": [
    {
     "name": "stdout",
     "output_type": "stream",
     "text": [
      "7 9\n"
     ]
    }
   ],
   "source": [
    "a=9\n",
    "b=7\n",
    "a,b=b,a\n",
    "print(a,b)"
   ]
  }
 ],
 "metadata": {
  "kernelspec": {
   "display_name": "Python 3",
   "language": "python",
   "name": "python3"
  },
  "language_info": {
   "codemirror_mode": {
    "name": "ipython",
    "version": 3
   },
   "file_extension": ".py",
   "mimetype": "text/x-python",
   "name": "python",
   "nbconvert_exporter": "python",
   "pygments_lexer": "ipython3",
   "version": "3.13.0"
  }
 },
 "nbformat": 4,
 "nbformat_minor": 2
}
