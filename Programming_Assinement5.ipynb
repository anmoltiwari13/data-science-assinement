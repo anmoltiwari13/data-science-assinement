{
 "cells": [
  {
   "cell_type": "markdown",
   "metadata": {},
   "source": [
    "Write a Python Program to Find LCM?"
   ]
  },
  {
   "cell_type": "code",
   "execution_count": null,
   "metadata": {},
   "outputs": [],
   "source": [
    "import math\n",
    "\n",
    "def compute_lcm(x, y):\n",
    "    # Use the formula LCM(x, y) = (x * y) // GCD(x, y)\n",
    "    return abs(x * y) // math.gcd(x, y)\n",
    "\n",
    "num1 = 54\n",
    "num2 = 24\n",
    "\n",
    "print(\"The L.C.M. is\", compute_lcm(num1, num2))\n"
   ]
  },
  {
   "cell_type": "markdown",
   "metadata": {},
   "source": [
    "Write a Python Program to Find HCF?"
   ]
  },
  {
   "cell_type": "code",
   "execution_count": null,
   "metadata": {},
   "outputs": [],
   "source": [
    "import math\n",
    "\n",
    "def compute_hcf(x, y):\n",
    "    # Use the built-in math.gcd function\n",
    "    return math.gcd(x, y)\n",
    "\n",
    "# Input from the user\n",
    "num1 = int(input(\"Enter the first number: \"))\n",
    "num2 = int(input(\"Enter the second number: \"))\n",
    "\n",
    "print(f\"The HCF of {num1} and {num2} is {compute_hcf(num1, num2)}\")\n"
   ]
  },
  {
   "cell_type": "markdown",
   "metadata": {},
   "source": [
    "Write a Python Program to Convert Decimal to Binary, Octal and Hexadecimal?"
   ]
  },
  {
   "cell_type": "code",
   "execution_count": null,
   "metadata": {},
   "outputs": [],
   "source": [
    "# Function to convert decimal to binary, octal, and hexadecimal\n",
    "def convert_number(decimal_number):\n",
    "    binary = bin(decimal_number)  # Convert to binary\n",
    "    octal = oct(decimal_number)  # Convert to octal\n",
    "    hexadecimal = hex(decimal_number)  # Convert to hexadecimal\n",
    "    return binary[2:], octal[2:], hexadecimal[2:].upper()  # Remove prefixes and format\n",
    "\n",
    "# Input from the user\n",
    "decimal_number = int(input(\"Enter a decimal number: \"))\n",
    "\n",
    "# Perform conversion\n",
    "binary, octal, hexadecimal = convert_number(decimal_number)\n",
    "\n",
    "# Display the results\n",
    "print(f\"Binary: {binary}\")\n",
    "print(f\"Octal: {octal}\")\n",
    "print(f\"Hexadecimal: {hexadecimal}\")\n"
   ]
  },
  {
   "cell_type": "markdown",
   "metadata": {},
   "source": [
    "Write a Python Program To Find ASCII value of a character?"
   ]
  },
  {
   "cell_type": "code",
   "execution_count": null,
   "metadata": {},
   "outputs": [],
   "source": [
    "# Program to find the ASCII value of a character\n",
    "\n",
    "# Input from the user\n",
    "char = input(\"Enter a character: \")\n",
    "\n",
    "# Ensure the input is a single character\n",
    "if len(char) == 1:\n",
    "    # Get ASCII value using ord()\n",
    "    ascii_value = ord(char)\n",
    "    print(f\"The ASCII value of '{char}' is {ascii_value}\")\n",
    "else:\n",
    "    print(\"Please enter a single character.\")\n"
   ]
  },
  {
   "cell_type": "markdown",
   "metadata": {},
   "source": [
    "Write a Python Program to Make a Simple Calculator with 4 basic mathematical operations?"
   ]
  },
  {
   "cell_type": "code",
   "execution_count": null,
   "metadata": {},
   "outputs": [],
   "source": [
    "# Function to perform basic operations\n",
    "def add(x, y):\n",
    "    return x + y\n",
    "\n",
    "def subtract(x, y):\n",
    "    return x - y\n",
    "\n",
    "def multiply(x, y):\n",
    "    return x * y\n",
    "\n",
    "def divide(x, y):\n",
    "    if y == 0:\n",
    "        return \"Error: Division by zero is not allowed.\"\n",
    "    return x / y\n",
    "\n",
    "# Display menu\n",
    "def calculator():\n",
    "    print(\"Select operation:\")\n",
    "    print(\"1. Addition (+)\")\n",
    "    print(\"2. Subtraction (-)\")\n",
    "    print(\"3. Multiplication (*)\")\n",
    "    print(\"4. Division (/)\")\n",
    "    \n",
    "    # Get user input for operation\n",
    "    choice = input(\"Enter choice (1/2/3/4): \")\n",
    "    \n",
    "    # Check if choice is valid\n",
    "    if choice in ('1', '2', '3', '4'):\n",
    "        # Get numbers from the user\n",
    "        num1 = float(input(\"Enter the first number: \"))\n",
    "        num2 = float(input(\"Enter the second number: \"))\n",
    "        \n",
    "        # Perform the selected operation\n",
    "        if choice == '1':\n",
    "            print(f\"The result is: {add(num1, num2)}\")\n",
    "        elif choice == '2':\n",
    "            print(f\"The result is: {subtract(num1, num2)}\")\n",
    "        elif choice == '3':\n",
    "            print(f\"The result is: {multiply(num1, num2)}\")\n",
    "        elif choice == '4':\n",
    "            print(f\"The result is: {divide(num1, num2)}\")\n",
    "    else:\n",
    "        print(\"Invalid input. Please select a valid operation.\")\n",
    "\n",
    "# Run the calculator\n",
    "calculator()\n"
   ]
  }
 ],
 "metadata": {
  "language_info": {
   "name": "python"
  }
 },
 "nbformat": 4,
 "nbformat_minor": 2
}
